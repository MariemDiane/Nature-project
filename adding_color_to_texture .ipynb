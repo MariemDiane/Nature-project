{
 "cells": [
  {
   "cell_type": "code",
   "execution_count": null,
   "id": "8ff10f40",
   "metadata": {},
   "outputs": [],
   "source": [
    "#!/usr/bin/env python3\n",
    "# -*- coding: utf-8 -*-\n",
    "\"\"\"\n",
    "Created on Thu Dec 22 15:32:55 2022\n",
    "\n",
    "@author: mariemdiane\n",
    "\"\"\"\n",
    "\n",
    "# importing Image class from PIL package\n",
    "import glob\n",
    "import scipy\n",
    "import skimage\n",
    "import matplotlib.pyplot as plt\n",
    "from scipy import fft\n",
    "from skimage import data, color\n",
    "import numpy as np        \n",
    "import skimage\n",
    "import os\n",
    "import cv2\n",
    "from skimage import io\n",
    "from natsort import natsorted\n",
    "from tqdm import tqdm\n",
    "import numpy as np\n",
    "from scipy import ndimage\n",
    "from PIL import Image, ImageOps\n",
    "import time\n"
   ]
  },
  {
   "cell_type": "code",
   "execution_count": null,
   "id": "69bbb226",
   "metadata": {},
   "outputs": [],
   "source": [
    "\n",
    "# opening a multiband image (RGB specifically)\n",
    "im = Image.open(r\"/Users/mariemdiane/Documents/image_fall.png\")\n",
    "plt.imshow(im)"
   ]
  },
  {
   "cell_type": "code",
   "execution_count": null,
   "id": "86f784d5",
   "metadata": {},
   "outputs": [],
   "source": [
    "# split() method: this will split the image in individual bands and return a tuple\n",
    "im1 = Image.Image.split(im)\n",
    "  \n",
    "# showing each band\n",
    "im1[0].show()\n",
    "im1[1].show()\n",
    "im1[2].show()\n",
    "\n",
    "# j'ai renommé chaque image split imA, imB, imC"
   ]
  },
  {
   "cell_type": "code",
   "execution_count": null,
   "id": "b22ef462",
   "metadata": {},
   "outputs": [],
   "source": [
    "img = Image.open(r\"/Users/mariemdiane/Desktop/imA.png\")\n",
    "\n",
    "# D'abord resize en square\n",
    "img = img.resize((1440,1440))\n",
    "plt.imshow(img)"
   ]
  },
  {
   "cell_type": "code",
   "execution_count": null,
   "id": "c0e9b9f6",
   "metadata": {},
   "outputs": [],
   "source": [
    "# On fait la texture fft sur cette image\n",
    "\n",
    "F2D = fft.rfft2(img, s=None, norm=None)\n",
    "phase = 2 * np.pi * np.random.rand(F2D.shape[0], F2D.shape[1])\n",
    "F_random = np.exp(1j * phase)\n",
    "Fz_scrambled = F_random * F2D\n",
    "image_phase = fft.irfft2(Fz_scrambled)\n",
    "plt.imshow(image_phase);\n",
    "\n",
    "# OK, on fait pareil sur les deux autres"
   ]
  },
  {
   "cell_type": "code",
   "execution_count": null,
   "id": "41a35c53",
   "metadata": {},
   "outputs": [],
   "source": [
    "# Numéro 2\n",
    "img = Image.open(r\"/Users/mariemdiane/Desktop/imB.png\")\n",
    "\n",
    "# D'abord resize en square\n",
    "img = img.resize((1440,1440))\n",
    "plt.imshow(img)\n",
    "\n",
    "# On fait la texture fft sur cette image\n",
    "\n",
    "F2D = fft.rfft2(img, s=None, norm=None)\n",
    "phase = 2 * np.pi * np.random.rand(F2D.shape[0], F2D.shape[1])\n",
    "F_random = np.exp(1j * phase)\n",
    "Fz_scrambled = F_random * F2D\n",
    "image_phase2 = fft.irfft2(Fz_scrambled)\n",
    "plt.imshow(image_phase2);"
   ]
  },
  {
   "cell_type": "code",
   "execution_count": null,
   "id": "2e4b0aff",
   "metadata": {},
   "outputs": [],
   "source": [
    "# Numéro 3\n",
    "img = Image.open(r\"/Users/mariemdiane/Desktop/imC.png\")\n",
    "\n",
    "# D'abord resize en square\n",
    "img = img.resize((1440,1440))\n",
    "plt.imshow(img)\n",
    "\n",
    "\n",
    "# On fait la texture fft sur cette image\n",
    "\n",
    "F2D = fft.rfft2(img, s=None, norm=None)\n",
    "phase = 2 * np.pi * np.random.rand(F2D.shape[0], F2D.shape[1])\n",
    "F_random = np.exp(1j * phase)\n",
    "Fz_scrambled = F_random * F2D\n",
    "image_phase3 = fft.irfft2(Fz_scrambled)\n",
    "plt.imshow(image_phase3);"
   ]
  },
  {
   "cell_type": "code",
   "execution_count": null,
   "id": "11915aba",
   "metadata": {},
   "outputs": [],
   "source": [
    "# On stack les numpy arrays des 3 image_phase\n",
    "\n",
    "R, G, B = image_phase, image_phase2, image_phase3\n",
    "\n",
    "for image in R, G, B:\n",
    "    image -= image.mean()\n",
    "    image /= image.std()\n",
    "    \n",
    "np.dstack((R, G, B)).shape\n",
    "\n",
    "img_stacked = np.dstack((R, G, B))\n",
    "\n",
    "img_stacked = (img_stacked - img_stacked.min() / (img_stacked.max() - img_stacked.min()\n",
    "                                                  \n",
    "img_stacked.shape\n",
    "plt.imshow(img_stacked)"
   ]
  }
 ],
 "metadata": {
  "kernelspec": {
   "display_name": "Python 3 (ipykernel)",
   "language": "python",
   "name": "python3"
  },
  "language_info": {
   "codemirror_mode": {
    "name": "ipython",
    "version": 3
   },
   "file_extension": ".py",
   "mimetype": "text/x-python",
   "name": "python",
   "nbconvert_exporter": "python",
   "pygments_lexer": "ipython3",
   "version": "3.9.12"
  }
 },
 "nbformat": 4,
 "nbformat_minor": 5
}
